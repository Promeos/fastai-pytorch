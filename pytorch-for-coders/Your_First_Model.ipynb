{
 "cells": [
  {
   "cell_type": "markdown",
   "metadata": {},
   "source": [
    "# Building your first model with `fastai`"
   ]
  },
  {
   "cell_type": "code",
   "execution_count": 1,
   "metadata": {},
   "outputs": [],
   "source": [
    "# Import libraries\n",
    "import torch\n",
    "from fastai.vision.all import *"
   ]
  },
  {
   "cell_type": "code",
   "execution_count": 2,
   "metadata": {},
   "outputs": [
    {
     "name": "stdout",
     "output_type": "stream",
     "text": [
      "GeForce RTX 2070 with Max-Q Design\n"
     ]
    }
   ],
   "source": [
    "# Verify the default device is an NVIDIA GPU\n",
    "print(torch.cuda.get_device_name(0))"
   ]
  },
  {
   "cell_type": "markdown",
   "metadata": {},
   "source": [
    "### Downloading the PETS built-in dataset from fastai"
   ]
  },
  {
   "cell_type": "markdown",
   "metadata": {},
   "source": [
    "To download data from fastai, we need to use the `untar_data()` function.\n",
    "```python\n",
    "untar_data(url, fname=None, dest=None, c_key='data', force_download=False, extract_func=file_extract, timeout=4)\n",
    "```\n",
    "\n",
    "The keyword `url` accepts a WINDOWS Path returned by `URLs.[dataset_name]`.\n",
    "\n",
    "```python\n",
    "# Pass the URLs.PETS path to download the pets dataset.\n",
    "untar_data(URLs.PETS)\n",
    "# Path on local machine to download/load the data\n",
    ">>> Path('C:/Users/chris/.fastai/data/oxford-iiit-pet')\n",
    "```\n",
    "\n",
    "Within the WINDOWS path returned by `untar_data`, subpaths exist:\n",
    "- Path('C:/Users/chris/.fastai/data/oxford-iiit-pet/annotations')\n",
    "- Path('C:/Users/chris/.fastai/data/oxford-iiit-pet/images') <--- _The path that contains dog and cat images_\n",
    "\n",
    "\n",
    "A complete list of built-in datasets: https://docs.fast.ai/data.external.html"
   ]
  },
  {
   "cell_type": "code",
   "execution_count": 4,
   "metadata": {
    "scrolled": false
   },
   "outputs": [
    {
     "data": {
      "text/html": [
       "<table border=\"1\" class=\"dataframe\">\n",
       "  <thead>\n",
       "    <tr style=\"text-align: left;\">\n",
       "      <th>epoch</th>\n",
       "      <th>train_loss</th>\n",
       "      <th>valid_loss</th>\n",
       "      <th>error_rate</th>\n",
       "      <th>time</th>\n",
       "    </tr>\n",
       "  </thead>\n",
       "  <tbody>\n",
       "    <tr>\n",
       "      <td>0</td>\n",
       "      <td>0.148423</td>\n",
       "      <td>0.038504</td>\n",
       "      <td>0.010149</td>\n",
       "      <td>00:59</td>\n",
       "    </tr>\n",
       "  </tbody>\n",
       "</table>"
      ],
      "text/plain": [
       "<IPython.core.display.HTML object>"
      ]
     },
     "metadata": {},
     "output_type": "display_data"
    },
    {
     "data": {
      "text/html": [
       "<table border=\"1\" class=\"dataframe\">\n",
       "  <thead>\n",
       "    <tr style=\"text-align: left;\">\n",
       "      <th>epoch</th>\n",
       "      <th>train_loss</th>\n",
       "      <th>valid_loss</th>\n",
       "      <th>error_rate</th>\n",
       "      <th>time</th>\n",
       "    </tr>\n",
       "  </thead>\n",
       "  <tbody>\n",
       "    <tr>\n",
       "      <td>0</td>\n",
       "      <td>0.038097</td>\n",
       "      <td>0.054823</td>\n",
       "      <td>0.010825</td>\n",
       "      <td>01:04</td>\n",
       "    </tr>\n",
       "    <tr>\n",
       "      <td>1</td>\n",
       "      <td>0.032240</td>\n",
       "      <td>0.017393</td>\n",
       "      <td>0.006766</td>\n",
       "      <td>01:03</td>\n",
       "    </tr>\n",
       "  </tbody>\n",
       "</table>"
      ],
      "text/plain": [
       "<IPython.core.display.HTML object>"
      ]
     },
     "metadata": {},
     "output_type": "display_data"
    }
   ],
   "source": [
    "# Load images from the PETS dataset\n",
    "path = untar_data(URLs.PETS)/'images'\n",
    "\n",
    "# Create a dataset of Dog and Cat images\n",
    "dbunch = ImageDataLoaders.from_name_func(path,\n",
    "                                         # Get image files in path recursively, only in folders, if specified.\n",
    "                                         get_image_files(path),\n",
    "                                         # Random 20% of the dataset is reserved for validation\n",
    "                                         valid_pct=0.2,\n",
    "                                         # Function is applied to the name of each file\n",
    "                                         label_func=lambda x: x[0].isupper(),\n",
    "                                         # Resize the images to 224\n",
    "                                         item_tfms=Resize(224),\n",
    "                                         # Random seed for reproducibility\n",
    "                                         seed=369,\n",
    "                                         # Device to use\n",
    "                                         device='cuda',\n",
    "                                         # Set to 0 in WINDOWS environment\n",
    "                                         num_workers=0\n",
    "                                        )\n",
    "# Pass the dataset to a model pretrained on 1.3 million images.\n",
    "learn = cnn_learner(dbunch, resnet34, metrics=error_rate)\n",
    "\n",
    "# The resnet model will be tuned to recognize dogs and cats.\n",
    "learn.fine_tune(2)"
   ]
  },
  {
   "cell_type": "code",
   "execution_count": null,
   "metadata": {},
   "outputs": [],
   "source": []
  }
 ],
 "metadata": {
  "kernelspec": {
   "display_name": "Python 3",
   "language": "python",
   "name": "python3"
  },
  "language_info": {
   "codemirror_mode": {
    "name": "ipython",
    "version": 3
   },
   "file_extension": ".py",
   "mimetype": "text/x-python",
   "name": "python",
   "nbconvert_exporter": "python",
   "pygments_lexer": "ipython3",
   "version": "3.8.5"
  }
 },
 "nbformat": 4,
 "nbformat_minor": 4
}
